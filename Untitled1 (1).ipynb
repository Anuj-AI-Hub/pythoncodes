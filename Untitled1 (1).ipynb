{
 "cells": [
  {
   "cell_type": "code",
   "execution_count": 1,
   "id": "e460e33a-3eb8-4551-8552-edcff3eb60e1",
   "metadata": {},
   "outputs": [
    {
     "name": "stdout",
     "output_type": "stream",
     "text": [
      "37 is a prime number\n"
     ]
    }
   ],
   "source": [
    "num = 37\n",
    "if num > 1:\n",
    "      for i in range(2, (num//2)+1):\n",
    "         if (num % i) == 0:\n",
    "            print(num, \"is not a prime number\")\n",
    "            break\n",
    "      else:\n",
    "        print(num, \"is a prime number\")\n",
    "else:\n",
    "    print(num, \"is not a prime number\")"
   ]
  },
  {
   "cell_type": "code",
   "execution_count": 3,
   "id": "944e3b0f-d41f-4a6e-b865-a3a0392ff5d6",
   "metadata": {},
   "outputs": [],
   "source": [
    "class Employee:\n",
    "    def __init__(self, name, position):\n",
    "        self.name = name\n",
    "        self.position = position\n",
    "\n",
    "    def display_info(self):\n",
    "        print(f\"Name: {self.name}, Position: {self.position}\")"
   ]
  },
  {
   "cell_type": "code",
   "execution_count": 5,
   "id": "39e73d42-0a78-45c2-b194-913a0a84251f",
   "metadata": {},
   "outputs": [],
   "source": [
    "class EmployeeManager:\n",
    "    def __init__(self):\n",
    "        self.employees = []\n",
    "\n",
    "    def add_employee(self):\n",
    "        name = input(\"Enter employee's name: \")\n",
    "        position = input(\"Enter employee's position: \")\n",
    "        employee = Employee(name, position)\n",
    "        self.employees.append(employee)\n",
    "        print(f\"Employee {name} added as {position}.\")\n",
    "\n",
    "    def show_employees(self):\n",
    "        if not self.employees:\n",
    "            print(\"\\nNo employees added yet.\")\n",
    "        else:\n",
    "            print(\"\\nEmployee List:\")\n",
    "            for emp in self.employees:\n",
    "                emp.display_info()\n",
    "\n",
    "    def run(self):\n",
    "        while True:\n",
    "            print(\"\\nEmployee Management Menu:\")\n",
    "            print(\"1. Show Employees\")\n",
    "            print(\"2. Add Employee\")\n",
    "            print(\"3. Exit\")\n",
    "\n",
    "            choice = input(\"Choose an option (1-3): \")\n",
    "\n",
    "            if choice == \"1\":\n",
    "                self.show_employees()\n",
    "            elif choice == \"2\":\n",
    "                self.add_employee()\n",
    "            elif choice == \"3\":\n",
    "                print(\"Exiting the program. Goodbye!\")\n",
    "                break\n",
    "            else:\n",
    "                print(\"Invalid choice. Please try again.\")"
   ]
  },
  {
   "cell_type": "code",
   "execution_count": 7,
   "id": "53027a1c-f817-42df-9983-ccc3ae202adb",
   "metadata": {},
   "outputs": [
    {
     "name": "stdout",
     "output_type": "stream",
     "text": [
      "\n",
      "Employee Management Menu:\n",
      "1. Show Employees\n",
      "2. Add Employee\n",
      "3. Exit\n"
     ]
    },
    {
     "name": "stdin",
     "output_type": "stream",
     "text": [
      "Choose an option (1-3):  2\n",
      "Enter employee's name:  anuj\n",
      "Enter employee's position:  manager\n"
     ]
    },
    {
     "name": "stdout",
     "output_type": "stream",
     "text": [
      "Employee anuj added as manager.\n",
      "\n",
      "Employee Management Menu:\n",
      "1. Show Employees\n",
      "2. Add Employee\n",
      "3. Exit\n"
     ]
    },
    {
     "name": "stdin",
     "output_type": "stream",
     "text": [
      "Choose an option (1-3):  1\n"
     ]
    },
    {
     "name": "stdout",
     "output_type": "stream",
     "text": [
      "\n",
      "Employee List:\n",
      "Name: anuj, Position: manager\n",
      "\n",
      "Employee Management Menu:\n",
      "1. Show Employees\n",
      "2. Add Employee\n",
      "3. Exit\n"
     ]
    },
    {
     "name": "stdin",
     "output_type": "stream",
     "text": [
      "Choose an option (1-3):  3\n"
     ]
    },
    {
     "name": "stdout",
     "output_type": "stream",
     "text": [
      "Exiting the program. Goodbye!\n"
     ]
    }
   ],
   "source": [
    "if __name__ == \"__main__\":\n",
    "    manager = EmployeeManager()\n",
    "    manager.run()"
   ]
  },
  {
   "cell_type": "code",
   "execution_count": 9,
   "id": "7da98cc9-8d2f-4bd4-86af-54189068fec7",
   "metadata": {},
   "outputs": [
    {
     "name": "stdout",
     "output_type": "stream",
     "text": [
      "Original Numbers: [1, 2, 3, 4, 5]\n",
      "Doubled Numbers: [2, 4, 6, 8, 10]\n"
     ]
    }
   ],
   "source": [
    "numbers = [1, 2, 3, 4, 5]\n",
    "double_numbers = list(map(lambda x: x * 2, numbers)) \n",
    "print(\"Original Numbers:\", numbers)\n",
    "print(\"Doubled Numbers:\", double_numbers)"
   ]
  },
  {
   "cell_type": "code",
   "execution_count": 11,
   "id": "c35b408d-004e-44fb-a81b-692c46bbbf66",
   "metadata": {},
   "outputs": [
    {
     "name": "stdout",
     "output_type": "stream",
     "text": [
      "Original List: [-10, 5, -3, 8, 0, 12, -1]\n",
      "Positive Numbers: [5, 8, 12]\n"
     ]
    }
   ],
   "source": [
    "numbers = [-10, 5, -3, 8, 0, 12, -1]\n",
    "def filter_positive_numbers(numbers):\n",
    "    return list(filter(lambda x: x > 0, numbers))\n",
    "positive_numbers = filter_positive_numbers(numbers)\n",
    "print(\"Original List:\", numbers)\n",
    "print(\"Positive Numbers:\", positive_numbers)"
   ]
  },
  {
   "cell_type": "code",
   "execution_count": 13,
   "id": "008fdf0d-9e46-416d-b0d0-0453417294fa",
   "metadata": {},
   "outputs": [
    {
     "name": "stdin",
     "output_type": "stream",
     "text": [
      "Pehla number daalein:  54\n",
      "Dusra number daalein:  44\n"
     ]
    },
    {
     "name": "stdout",
     "output_type": "stream",
     "text": [
      "54 aur 44 ka GCD hai: 2\n"
     ]
    }
   ],
   "source": [
    "def find_gcd(a, b):\n",
    "    while b:\n",
    "        a, b = b, a % b\n",
    "    return a\n",
    "num1 = int(input(\"Pehla number daalein: \"))\n",
    "num2 = int(input(\"Dusra number daalein: \"))\n",
    "gcd = find_gcd(num1, num2)\n",
    "print(f\"{num1} aur {num2} ka GCD hai: {gcd}\")"
   ]
  },
  {
   "cell_type": "code",
   "execution_count": 15,
   "id": "f475bd47-9718-4c81-a8cd-9c42a911d9f1",
   "metadata": {},
   "outputs": [
    {
     "name": "stdin",
     "output_type": "stream",
     "text": [
      "Enter a number:  4\n"
     ]
    },
    {
     "name": "stdout",
     "output_type": "stream",
     "text": [
      "The factorial of 4 is: 24\n"
     ]
    }
   ],
   "source": [
    "def factorial(n):\n",
    "    if n == 0 or n == 1:\n",
    "        return 1\n",
    "    else:\n",
    "        return n * factorial(n - 1) \n",
    "num = int(input(\"Enter a number: \"))\n",
    "print(f\"The factorial of {num} is: {factorial(num)}\")"
   ]
  },
  {
   "cell_type": "code",
   "execution_count": 25,
   "id": "0b329453-512b-4016-b7b2-69ee13ca1d22",
   "metadata": {},
   "outputs": [
    {
     "name": "stdin",
     "output_type": "stream",
     "text": [
      "Enter the student's score:  89\n"
     ]
    },
    {
     "name": "stdout",
     "output_type": "stream",
     "text": [
      "Grade: B\n"
     ]
    }
   ],
   "source": [
    "score = float(input(\"Enter the student's score: \"))\n",
    "if score >= 90:\n",
    "    grade = \"A\"\n",
    "elif score >= 80:\n",
    "    grade = \"B\"\n",
    "elif score >= 70:\n",
    "    grade = \"C\"\n",
    "elif score >= 60:\n",
    "    grade = \"D\"\n",
    "else:\n",
    "    grade = \"F\"\n",
    "print(\"Grade:\", grade)"
   ]
  },
  {
   "cell_type": "code",
   "execution_count": 144,
   "id": "2543bab3-292a-4a02-aee4-d83ebaa189fa",
   "metadata": {},
   "outputs": [
    {
     "ename": "IndentationError",
     "evalue": "unexpected indent (2428795947.py, line 3)",
     "output_type": "error",
     "traceback": [
      "\u001b[1;36m  Cell \u001b[1;32mIn[144], line 3\u001b[1;36m\u001b[0m\n\u001b[1;33m    def guessing_game():\u001b[0m\n\u001b[1;37m    ^\u001b[0m\n\u001b[1;31mIndentationError\u001b[0m\u001b[1;31m:\u001b[0m unexpected indent\n"
     ]
    }
   ],
   "source": [
    "import random\n",
    "\n",
    "\n",
    "def guessing_game():\n",
    "    \n",
    "    number_to_guess = random.randint(1, 100)\n",
    "    attempts = 0\n",
    "    \n",
    "    print(\"Welcome to the Guessing Game!\")\n",
    "    print(\"I have selected a number between 1 and 100. Try to guess it!\")\n",
    "\n",
    "    while True:\n",
    "        #\n",
    "        guess = int(input(\"Enter your guess: \"))\n",
    "        attempts += 1\n",
    "        \n",
    "        if guess < number_to_guess:\n",
    "            print(\"Too low! Try again.\")\n",
    "        elif guess > number_to_guess:\n",
    "            print(\"Too high! Try again.\")\n",
    "        else:\n",
    "            print(f\"Congratulations! You guessed the number in {attempts} attempts.\")\n",
    "            break\n",
    "\n",
    "guessing_game()"
   ]
  },
  {
   "cell_type": "code",
   "execution_count": 126,
   "id": "dc208047-73b4-4fef-8dc1-20c88c016329",
   "metadata": {},
   "outputs": [
    {
     "name": "stdout",
     "output_type": "stream",
     "text": [
      "Temperature Converter\n",
      "1: Celsius to Fahrenheit\n",
      "2: Fahrenheit to Celsius\n"
     ]
    },
    {
     "name": "stdin",
     "output_type": "stream",
     "text": [
      "Enter your choice (1 or 2):  55\n"
     ]
    },
    {
     "name": "stdout",
     "output_type": "stream",
     "text": [
      "Invalid choice! Please choose 1 or 2.\n"
     ]
    }
   ],
   "source": [
    "def celsius_to_fahrenheit(celsius):\n",
    "    return (celsius * 9/5) + 32\n",
    "\n",
    "def fahrenheit_to_celsius(fahrenheit):\n",
    "    return (fahrenheit - 32) * 5/9\n",
    "\n",
    "print(\"Temperature Converter\")\n",
    "print(\"1: Celsius to Fahrenheit\")\n",
    "print(\"2: Fahrenheit to Celsius\")\n",
    "choice = int(input(\"Enter your choice (1 or 2): \"))\n",
    "\n",
    "if choice == 1:\n",
    "    celsius = float(input(\"Enter temperature in Celsius: \"))\n",
    "    fahrenheit = celsius_to_fahrenheit(celsius)\n",
    "    print(f\"{celsius}°C is equal to {fahrenheit}°F.\")\n",
    "elif choice == 2:\n",
    "    fahrenheit = float(input(\"Enter temperature in Fahrenheit: \"))\n",
    "    celsius = fahrenheit_to_celsius(fahrenheit)\n",
    "    print(f\"{fahrenheit}°F is equal to {celsius}°C.\")\n",
    "else:\n",
    "    print(\"Invalid choice! Please choose 1 or 2.\")"
   ]
  },
  {
   "cell_type": "code",
   "execution_count": 128,
   "id": "7be2d8ef-df59-4637-8d6e-0020f639270f",
   "metadata": {},
   "outputs": [],
   "source": [
    "class Vehicle:\n",
    "    def __init__(self, make, model, year, color):\n",
    "        self.make = make\n",
    "        self.model = model\n",
    "        self.year = year\n",
    "        self.color = color\n",
    "        self.engine_status = \"off\"\n",
    "    def start_engine(self):\n",
    "        if self.engine_status == \"off\":\n",
    "            self.engine_status = \"on\"\n",
    "            print(f\"{self.make} {self.model} engine started.\")\n",
    "        else:\n",
    "            print(f\"{self.make} {self.model} engine is already running.\")\n",
    "    def stop_engine(self):\n",
    "        if self.engine_status == \"on\":\n",
    "            self.engine_status = \"off\"\n",
    "            print(f\"{self.make} {self.model} engine stopped.\")\n",
    "        else:\n",
    "            print(f\"{self.make} {self.model} engine is already off.\")\n",
    "            \n",
    "class Car(Vehicle):\n",
    "    def __init__(self, make, model, year, color, num_doors):\n",
    "        super().__init__(make, model, year, color)\n",
    "        self.num_doors = num_doors\n",
    "\n",
    "    def display_details(self):\n",
    "        print(f\"\\nCar: {self.make} {self.model} ({self.year})\")\n",
    "        print(f\"Color: {self.color}, Doors: {self.num_doors}\")\n",
    "        print(f\"Engine Status: {self.engine_status}\")\n",
    "        \n",
    "class Bike(Vehicle):\n",
    "    def __init__(self, make, model, year, color, bike_type):\n",
    "        super().__init__(make, model, year, color)\n",
    "        self.bike_type = bike_type\n",
    "\n",
    "    def display_details(self):\n",
    "        print(f\"\\nBike: {self.make} {self.model} ({self.year})\")\n",
    "        print(f\"Color: {self.color}, Type: {self.bike_type}\")\n",
    "        print(f\"Engine Status: {self.engine_status}\")"
   ]
  },
  {
   "cell_type": "code",
   "execution_count": 33,
   "id": "76ff8436-440a-475b-9836-967eb499ef85",
   "metadata": {},
   "outputs": [
    {
     "name": "stdout",
     "output_type": "stream",
     "text": [
      "\n",
      "Car: Toyota Corolla (2020)\n",
      "Color: Red, Doors: 4\n",
      "Engine Status: off\n",
      "Toyota Corolla engine started.\n",
      "Toyota Corolla engine stopped.\n"
     ]
    }
   ],
   "source": [
    "car = Car(\"Toyota\", \"Corolla\", 2020, \"Red\", 4)\n",
    "car.display_details()\n",
    "car.start_engine()\n",
    "car.stop_engine()"
   ]
  },
  {
   "cell_type": "code",
   "execution_count": 35,
   "id": "709f79fc-ebab-49b6-8f08-d57bd694ed08",
   "metadata": {},
   "outputs": [
    {
     "name": "stdout",
     "output_type": "stream",
     "text": [
      "\n",
      "Bike: Yamaha YZF-R3 (2021)\n",
      "Color: Blue, Type: Sport\n",
      "Engine Status: off\n",
      "Yamaha YZF-R3 engine started.\n",
      "Yamaha YZF-R3 engine stopped.\n"
     ]
    }
   ],
   "source": [
    "bike = Bike(\"Yamaha\", \"YZF-R3\", 2021, \"Blue\", \"Sport\")\n",
    "bike.display_details()\n",
    "bike.start_engine()\n",
    "bike.stop_engine()"
   ]
  },
  {
   "cell_type": "code",
   "execution_count": 37,
   "id": "ac183067-bbdf-4401-8fcc-429f644daf0c",
   "metadata": {},
   "outputs": [
    {
     "name": "stdout",
     "output_type": "stream",
     "text": [
      "Task 'Buy groceries' added.\n",
      "Task 'Complete homework' added.\n",
      "1. Buy groceries\n",
      "2. Complete homework\n",
      "Task 'Buy groceries' removed.\n",
      "1. Complete homework\n"
     ]
    }
   ],
   "source": [
    "class ToDoList:\n",
    "    def __init__(self):\n",
    "        self.tasks = []\n",
    "\n",
    "    def add(self, task):\n",
    "        self.tasks.append(task)\n",
    "        print(f\"Task '{task}' added.\")\n",
    "\n",
    "    def remove(self, index):\n",
    "        if 0 <= index < len(self.tasks):\n",
    "            print(f\"Task '{self.tasks.pop(index)}' removed.\")\n",
    "        else:\n",
    "            print(\"Invalid task number.\")\n",
    "\n",
    "    def view(self):\n",
    "        if not self.tasks:\n",
    "            print(\"No tasks to display.\")\n",
    "        else:\n",
    "            for i, task in enumerate(self.tasks, 1):\n",
    "                print(f\"{i}. {task}\")\n",
    "\n",
    "todo = ToDoList()\n",
    "todo.add(\"Buy groceries\")\n",
    "todo.add(\"Complete homework\")\n",
    "todo.view()\n",
    "todo.remove(0)\n",
    "todo.view()\n"
   ]
  },
  {
   "cell_type": "code",
   "execution_count": 39,
   "id": "07453ddd-2b03-493b-b652-c433e9d5ac3b",
   "metadata": {},
   "outputs": [
    {
     "name": "stdout",
     "output_type": "stream",
     "text": [
      "Requirement already satisfied: pandas in c:\\users\\intel i-5\\anaconda3\\lib\\site-packages (2.2.2)\n",
      "Requirement already satisfied: numpy>=1.26.0 in c:\\users\\intel i-5\\anaconda3\\lib\\site-packages (from pandas) (1.26.4)\n",
      "Requirement already satisfied: python-dateutil>=2.8.2 in c:\\users\\intel i-5\\anaconda3\\lib\\site-packages (from pandas) (2.9.0.post0)\n",
      "Requirement already satisfied: pytz>=2020.1 in c:\\users\\intel i-5\\anaconda3\\lib\\site-packages (from pandas) (2024.1)\n",
      "Requirement already satisfied: tzdata>=2022.7 in c:\\users\\intel i-5\\anaconda3\\lib\\site-packages (from pandas) (2023.3)\n",
      "Requirement already satisfied: six>=1.5 in c:\\users\\intel i-5\\anaconda3\\lib\\site-packages (from python-dateutil>=2.8.2->pandas) (1.16.0)\n",
      "Note: you may need to restart the kernel to use updated packages.\n"
     ]
    }
   ],
   "source": [
    "pip install pandas"
   ]
  },
  {
   "cell_type": "code",
   "execution_count": 41,
   "id": "6034ae22-3d8a-4ca9-9392-9125d0ef1958",
   "metadata": {},
   "outputs": [],
   "source": [
    "import pandas as pd"
   ]
  },
  {
   "cell_type": "code",
   "execution_count": 43,
   "id": "3bac8ccf-4e91-43ea-a9da-f3aa30d02fd3",
   "metadata": {},
   "outputs": [],
   "source": [
    "df = pd.read_csv('CountryHits240901.csv')"
   ]
  },
  {
   "cell_type": "code",
   "execution_count": 45,
   "id": "8ea7d857-b155-42d3-ba53-2d3ee5ff9e68",
   "metadata": {},
   "outputs": [
    {
     "name": "stdout",
     "output_type": "stream",
     "text": [
      "<class 'pandas.core.frame.DataFrame'>\n",
      "RangeIndex: 100 entries, 0 to 99\n",
      "Data columns (total 19 columns):\n",
      " #   Column            Non-Null Count  Dtype  \n",
      "---  ------            --------------  -----  \n",
      " 0   Rank              100 non-null    int64  \n",
      " 1   Track             100 non-null    object \n",
      " 2   Artist1           100 non-null    object \n",
      " 3   Artist2           18 non-null     object \n",
      " 4   Album             100 non-null    object \n",
      " 5   Release           100 non-null    object \n",
      " 6   Popularity        100 non-null    int64  \n",
      " 7   Duration          100 non-null    int64  \n",
      " 8   Danceability      100 non-null    float64\n",
      " 9   Energy            100 non-null    float64\n",
      " 10  Key               100 non-null    int64  \n",
      " 11  Loudness          100 non-null    float64\n",
      " 12  Mode              100 non-null    int64  \n",
      " 13  Speechiness       100 non-null    float64\n",
      " 14  Acousticness      100 non-null    float64\n",
      " 15  Instrumentalness  100 non-null    float64\n",
      " 16  Liveness          100 non-null    float64\n",
      " 17  Valence           100 non-null    float64\n",
      " 18  Tempo             100 non-null    float64\n",
      "dtypes: float64(9), int64(5), object(5)\n",
      "memory usage: 15.0+ KB\n"
     ]
    }
   ],
   "source": [
    "df.info()"
   ]
  },
  {
   "cell_type": "code",
   "execution_count": 47,
   "id": "a7a150f0-d973-4e6c-b39b-874008d1032f",
   "metadata": {},
   "outputs": [
    {
     "data": {
      "text/html": [
       "<div>\n",
       "<style scoped>\n",
       "    .dataframe tbody tr th:only-of-type {\n",
       "        vertical-align: middle;\n",
       "    }\n",
       "\n",
       "    .dataframe tbody tr th {\n",
       "        vertical-align: top;\n",
       "    }\n",
       "\n",
       "    .dataframe thead th {\n",
       "        text-align: right;\n",
       "    }\n",
       "</style>\n",
       "<table border=\"1\" class=\"dataframe\">\n",
       "  <thead>\n",
       "    <tr style=\"text-align: right;\">\n",
       "      <th></th>\n",
       "      <th>Rank</th>\n",
       "      <th>Popularity</th>\n",
       "      <th>Duration</th>\n",
       "      <th>Danceability</th>\n",
       "      <th>Energy</th>\n",
       "      <th>Key</th>\n",
       "      <th>Loudness</th>\n",
       "      <th>Mode</th>\n",
       "      <th>Speechiness</th>\n",
       "      <th>Acousticness</th>\n",
       "      <th>Instrumentalness</th>\n",
       "      <th>Liveness</th>\n",
       "      <th>Valence</th>\n",
       "      <th>Tempo</th>\n",
       "    </tr>\n",
       "  </thead>\n",
       "  <tbody>\n",
       "    <tr>\n",
       "      <th>count</th>\n",
       "      <td>100.000000</td>\n",
       "      <td>100.000000</td>\n",
       "      <td>100.000000</td>\n",
       "      <td>100.000000</td>\n",
       "      <td>100.000000</td>\n",
       "      <td>100.000000</td>\n",
       "      <td>100.000000</td>\n",
       "      <td>100.000000</td>\n",
       "      <td>100.000000</td>\n",
       "      <td>100.000000</td>\n",
       "      <td>100.000000</td>\n",
       "      <td>100.000000</td>\n",
       "      <td>100.000000</td>\n",
       "      <td>100.000000</td>\n",
       "    </tr>\n",
       "    <tr>\n",
       "      <th>mean</th>\n",
       "      <td>50.500000</td>\n",
       "      <td>64.230000</td>\n",
       "      <td>199394.960000</td>\n",
       "      <td>0.562360</td>\n",
       "      <td>0.716310</td>\n",
       "      <td>4.930000</td>\n",
       "      <td>-5.588640</td>\n",
       "      <td>0.810000</td>\n",
       "      <td>0.039120</td>\n",
       "      <td>0.176438</td>\n",
       "      <td>0.006681</td>\n",
       "      <td>0.156658</td>\n",
       "      <td>0.503010</td>\n",
       "      <td>124.964450</td>\n",
       "    </tr>\n",
       "    <tr>\n",
       "      <th>std</th>\n",
       "      <td>29.011492</td>\n",
       "      <td>13.597278</td>\n",
       "      <td>29159.812145</td>\n",
       "      <td>0.087599</td>\n",
       "      <td>0.125574</td>\n",
       "      <td>3.385217</td>\n",
       "      <td>1.518451</td>\n",
       "      <td>0.394277</td>\n",
       "      <td>0.012614</td>\n",
       "      <td>0.203237</td>\n",
       "      <td>0.059912</td>\n",
       "      <td>0.097476</td>\n",
       "      <td>0.182414</td>\n",
       "      <td>29.124518</td>\n",
       "    </tr>\n",
       "    <tr>\n",
       "      <th>min</th>\n",
       "      <td>1.000000</td>\n",
       "      <td>36.000000</td>\n",
       "      <td>144426.000000</td>\n",
       "      <td>0.353000</td>\n",
       "      <td>0.431000</td>\n",
       "      <td>0.000000</td>\n",
       "      <td>-11.066000</td>\n",
       "      <td>0.000000</td>\n",
       "      <td>0.024100</td>\n",
       "      <td>0.000086</td>\n",
       "      <td>0.000000</td>\n",
       "      <td>0.028700</td>\n",
       "      <td>0.146000</td>\n",
       "      <td>66.041000</td>\n",
       "    </tr>\n",
       "    <tr>\n",
       "      <th>25%</th>\n",
       "      <td>25.750000</td>\n",
       "      <td>55.750000</td>\n",
       "      <td>179553.500000</td>\n",
       "      <td>0.500750</td>\n",
       "      <td>0.631250</td>\n",
       "      <td>2.000000</td>\n",
       "      <td>-6.223500</td>\n",
       "      <td>1.000000</td>\n",
       "      <td>0.029775</td>\n",
       "      <td>0.018800</td>\n",
       "      <td>0.000000</td>\n",
       "      <td>0.097550</td>\n",
       "      <td>0.376000</td>\n",
       "      <td>103.704250</td>\n",
       "    </tr>\n",
       "    <tr>\n",
       "      <th>50%</th>\n",
       "      <td>50.500000</td>\n",
       "      <td>67.000000</td>\n",
       "      <td>191493.000000</td>\n",
       "      <td>0.569000</td>\n",
       "      <td>0.745500</td>\n",
       "      <td>5.000000</td>\n",
       "      <td>-5.375000</td>\n",
       "      <td>1.000000</td>\n",
       "      <td>0.034850</td>\n",
       "      <td>0.118000</td>\n",
       "      <td>0.000000</td>\n",
       "      <td>0.115000</td>\n",
       "      <td>0.470000</td>\n",
       "      <td>123.964500</td>\n",
       "    </tr>\n",
       "    <tr>\n",
       "      <th>75%</th>\n",
       "      <td>75.250000</td>\n",
       "      <td>74.000000</td>\n",
       "      <td>214696.500000</td>\n",
       "      <td>0.629750</td>\n",
       "      <td>0.815250</td>\n",
       "      <td>8.000000</td>\n",
       "      <td>-4.589750</td>\n",
       "      <td>1.000000</td>\n",
       "      <td>0.045450</td>\n",
       "      <td>0.234750</td>\n",
       "      <td>0.000004</td>\n",
       "      <td>0.183500</td>\n",
       "      <td>0.633000</td>\n",
       "      <td>142.580500</td>\n",
       "    </tr>\n",
       "    <tr>\n",
       "      <th>max</th>\n",
       "      <td>100.000000</td>\n",
       "      <td>89.000000</td>\n",
       "      <td>290892.000000</td>\n",
       "      <td>0.738000</td>\n",
       "      <td>0.928000</td>\n",
       "      <td>11.000000</td>\n",
       "      <td>-2.695000</td>\n",
       "      <td>1.000000</td>\n",
       "      <td>0.087300</td>\n",
       "      <td>0.874000</td>\n",
       "      <td>0.598000</td>\n",
       "      <td>0.582000</td>\n",
       "      <td>0.963000</td>\n",
       "      <td>203.912000</td>\n",
       "    </tr>\n",
       "  </tbody>\n",
       "</table>\n",
       "</div>"
      ],
      "text/plain": [
       "             Rank  Popularity       Duration  Danceability      Energy  \\\n",
       "count  100.000000  100.000000     100.000000    100.000000  100.000000   \n",
       "mean    50.500000   64.230000  199394.960000      0.562360    0.716310   \n",
       "std     29.011492   13.597278   29159.812145      0.087599    0.125574   \n",
       "min      1.000000   36.000000  144426.000000      0.353000    0.431000   \n",
       "25%     25.750000   55.750000  179553.500000      0.500750    0.631250   \n",
       "50%     50.500000   67.000000  191493.000000      0.569000    0.745500   \n",
       "75%     75.250000   74.000000  214696.500000      0.629750    0.815250   \n",
       "max    100.000000   89.000000  290892.000000      0.738000    0.928000   \n",
       "\n",
       "              Key    Loudness        Mode  Speechiness  Acousticness  \\\n",
       "count  100.000000  100.000000  100.000000   100.000000    100.000000   \n",
       "mean     4.930000   -5.588640    0.810000     0.039120      0.176438   \n",
       "std      3.385217    1.518451    0.394277     0.012614      0.203237   \n",
       "min      0.000000  -11.066000    0.000000     0.024100      0.000086   \n",
       "25%      2.000000   -6.223500    1.000000     0.029775      0.018800   \n",
       "50%      5.000000   -5.375000    1.000000     0.034850      0.118000   \n",
       "75%      8.000000   -4.589750    1.000000     0.045450      0.234750   \n",
       "max     11.000000   -2.695000    1.000000     0.087300      0.874000   \n",
       "\n",
       "       Instrumentalness    Liveness     Valence       Tempo  \n",
       "count        100.000000  100.000000  100.000000  100.000000  \n",
       "mean           0.006681    0.156658    0.503010  124.964450  \n",
       "std            0.059912    0.097476    0.182414   29.124518  \n",
       "min            0.000000    0.028700    0.146000   66.041000  \n",
       "25%            0.000000    0.097550    0.376000  103.704250  \n",
       "50%            0.000000    0.115000    0.470000  123.964500  \n",
       "75%            0.000004    0.183500    0.633000  142.580500  \n",
       "max            0.598000    0.582000    0.963000  203.912000  "
      ]
     },
     "execution_count": 47,
     "metadata": {},
     "output_type": "execute_result"
    }
   ],
   "source": [
    "df.describe()"
   ]
  },
  {
   "cell_type": "code",
   "execution_count": 49,
   "id": "e0546abf-2516-4234-8907-beedc9526086",
   "metadata": {},
   "outputs": [
    {
     "name": "stdout",
     "output_type": "stream",
     "text": [
      "Requirement already satisfied: numpy in c:\\users\\intel i-5\\anaconda3\\lib\\site-packages (1.26.4)\n",
      "Note: you may need to restart the kernel to use updated packages.\n"
     ]
    }
   ],
   "source": [
    "pip install numpy"
   ]
  },
  {
   "cell_type": "code",
   "execution_count": 50,
   "id": "ec847d59-156c-4f89-aeb5-8712a7da3e09",
   "metadata": {},
   "outputs": [],
   "source": [
    "import numpy as np\n"
   ]
  },
  {
   "cell_type": "code",
   "execution_count": 57,
   "id": "d5f75d91-2e7b-44a5-88f4-cc0ec9104437",
   "metadata": {},
   "outputs": [
    {
     "data": {
      "text/plain": [
       "'1.26.4'"
      ]
     },
     "execution_count": 57,
     "metadata": {},
     "output_type": "execute_result"
    }
   ],
   "source": [
    " np.__version__"
   ]
  },
  {
   "cell_type": "code",
   "execution_count": 59,
   "id": "560f876e-62fd-4c90-b769-af5c611e9a1f",
   "metadata": {},
   "outputs": [
    {
     "name": "stdout",
     "output_type": "stream",
     "text": [
      "[[[1 2 3]\n",
      "  [4 5 6]]\n",
      "\n",
      " [[1 2 3]\n",
      "  [4 5 6]]]\n"
     ]
    }
   ],
   "source": [
    "arr = np.array([[[1, 2, 3], [4, 5, 6]], [[1, 2, 3], [4, 5, 6]]])\n",
    "\n",
    "print(arr)"
   ]
  },
  {
   "cell_type": "code",
   "execution_count": 61,
   "id": "8de0617d-71f5-49e8-8ce2-d1f8abc88608",
   "metadata": {},
   "outputs": [
    {
     "name": "stdout",
     "output_type": "stream",
     "text": [
      "4\n"
     ]
    }
   ],
   "source": [
    "arr = np.array([[[1, 2, 3], [4, 5, 6]], [[7, 8, 9], [10, 11, 12]]])\n",
    "\n",
    "print(arr[0, 1, 0])"
   ]
  },
  {
   "cell_type": "code",
   "execution_count": 63,
   "id": "17e07f32-021f-4e92-831c-9a1dd707fc95",
   "metadata": {},
   "outputs": [],
   "source": [
    "arr_1 = np.array([1,2,3,4,5])\n",
    "arr_2 = np.array([6,7,8,9,10])\n",
    "\n",
    "arr_3 = np.dot(arr_1,arr_2)\n",
    "arr_4 = arr_1 + arr_2\n",
    " "
   ]
  },
  {
   "cell_type": "code",
   "execution_count": 71,
   "id": "a7c73a9c-17b2-4841-a76f-eaf32a40edc9",
   "metadata": {},
   "outputs": [
    {
     "data": {
      "text/plain": [
       "130"
      ]
     },
     "execution_count": 71,
     "metadata": {},
     "output_type": "execute_result"
    }
   ],
   "source": [
    "arr_3"
   ]
  },
  {
   "cell_type": "code",
   "execution_count": 73,
   "id": "e37cbaca-fbdf-4469-ad6f-6cb87e8762c7",
   "metadata": {},
   "outputs": [
    {
     "data": {
      "text/plain": [
       "array([ 7,  9, 11, 13, 15])"
      ]
     },
     "execution_count": 73,
     "metadata": {},
     "output_type": "execute_result"
    }
   ],
   "source": [
    "arr_4"
   ]
  },
  {
   "cell_type": "code",
   "execution_count": 75,
   "id": "3220707d-1cf2-4b64-b8fd-3c5fc1298828",
   "metadata": {},
   "outputs": [
    {
     "name": "stdout",
     "output_type": "stream",
     "text": [
      "[100  90  80  70  60  50  40  30  20  10]\n"
     ]
    }
   ],
   "source": [
    "short = np.array([10,20,30,40,50,60,70,80,90,100])\n",
    "shorts =np.sort(short)[::-1]\n",
    "print(shorts)"
   ]
  },
  {
   "cell_type": "code",
   "execution_count": 87,
   "id": "b930d6b0-1755-426b-a210-97126afb2322",
   "metadata": {},
   "outputs": [
    {
     "name": "stdout",
     "output_type": "stream",
     "text": [
      "DataFrame created using NumPy and Pandas:\n",
      "   Math  Science  English  History\n",
      "0    86        1       88       55\n",
      "1    99       32       82       50\n",
      "2    97        8       78       45\n"
     ]
    }
   ],
   "source": [
    "data = np.random.randint(0, 100, size=(3, 4))\n",
    "columns = ['Math', 'Science', 'English', 'History']\n",
    "df = pd.DataFrame(data, columns=columns)\n",
    "print(\"DataFrame created using NumPy and Pandas:\")\n",
    "print(df)"
   ]
  },
  {
   "cell_type": "code",
   "execution_count": null,
   "id": "6c0753d3-3f92-42d0-9e7d-ca8169772693",
   "metadata": {},
   "outputs": [],
   "source": []
  }
 ],
 "metadata": {
  "kernelspec": {
   "display_name": "Python 3 (ipykernel)",
   "language": "python",
   "name": "python3"
  },
  "language_info": {
   "codemirror_mode": {
    "name": "ipython",
    "version": 3
   },
   "file_extension": ".py",
   "mimetype": "text/x-python",
   "name": "python",
   "nbconvert_exporter": "python",
   "pygments_lexer": "ipython3",
   "version": "3.12.4"
  }
 },
 "nbformat": 4,
 "nbformat_minor": 5
}
